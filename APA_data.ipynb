{
 "cells": [
  {
   "cell_type": "code",
   "execution_count": 1,
   "id": "4ac2a596",
   "metadata": {},
   "outputs": [],
   "source": [
    "import streamlit as st\n",
    "import pandas as pd\n",
    "import numpy as np\n",
    "import folium\n",
    "from streamlit_folium import folium_static\n",
    "import json\n",
    "from pandas import json_normalize\n",
    "import unicodedata\n",
    "import matplotlib.pyplot as plt\n",
    "import seaborn as sns\n"
   ]
  },
  {
   "cell_type": "code",
   "execution_count": 2,
   "id": "2a8f4996",
   "metadata": {},
   "outputs": [
    {
     "name": "stderr",
     "output_type": "stream",
     "text": [
      "2021-10-08 15:00:57.708 INFO    numexpr.utils: NumExpr defaulting to 8 threads.\n"
     ]
    }
   ],
   "source": [
    "# Liens de téléchargement des données\n",
    "# data20XX : allocataires APA puy de dome de 20XX\n",
    "data2019_url = (\n",
    "    \"https://app.puy-de-dome.fr/open-data/public/files/app-open-data/Allocataires_APA_par_commune_(spatial_points)_1460_2020-09-03.csv\")\n",
    "\n",
    "data2020_url = (\n",
    "    \"https://app.puy-de-dome.fr/open-data/public/files/app-open-data/Allocataires_APA_par_commune_(spatial_points)_1492_2021-03-18.csv\")\n",
    "\n",
    "data2018_url = (\n",
    "    \"https://app.puy-de-dome.fr/open-data/public/files/app-open-data/Allocataires_APA_par_commune_(spatial_points)_1458_2020-09-03.csv\")\n",
    "\n",
    "data2017_url = (\n",
    "    \"https://app.puy-de-dome.fr/open-data/public/files/app-open-data/Allocataires_APA_par_commune_(spatial_points)_1456_2020-09-03.csv\")\n",
    "\n",
    "data2016_url = (\n",
    "    \"https://app.puy-de-dome.fr/open-data/public/files/app-open-data/Allocataires_APA_par_commune_(spatial_points)_1454_2020-09-03.csv\")\n",
    "\n",
    "data2015_url = (\n",
    "    \"https://app.puy-de-dome.fr/open-data/public/files/app-open-data/Allocataires_APA_par_commune_(spatial_points)_1452_2020-09-03.csv\")\n",
    "\n",
    "data2014_url = (\n",
    "    \"https://app.puy-de-dome.fr/open-data/public/files/app-open-data/Allocataires_APA_par_commune_(spatial_points)_1450_2020-09-03.csv\")\n",
    "\n",
    "# datageo : coordonnées des communes du puy de dome\n",
    "datageocommune_url = (\n",
    "    'https://github.com/gregoiredavid/france-geojson/raw/master/departements/63-puy-de-dome/communes-63-puy-de-dome.geojson')\n",
    "geocommune=pd.read_json(datageocommune_url)\n",
    "\n",
    "datageodepartement_url = (\n",
    "'https://github.com/gregoiredavid/france-geojson/raw/master/departements/63-puy-de-dome/departement-63-puy-de-dome.geojson')\n",
    "geodepartement=pd.read_json(datageodepartement_url)\n",
    "\n",
    "df2020 = pd.read_csv(data2020_url, sep=';', encoding = \"ISO-8859-1\")\n",
    "df2019 = pd.read_csv(data2019_url, sep=';', encoding = \"ISO-8859-1\")\n",
    "df2018 = pd.read_csv(data2018_url, sep=';', encoding = \"ISO-8859-1\")\n",
    "df2017 = pd.read_csv(data2017_url, sep=';', encoding = \"ISO-8859-1\")\n",
    "df2016 = pd.read_csv(data2016_url, sep=';', encoding = \"ISO-8859-1\")\n",
    "df2015 = pd.read_csv(data2015_url, sep=';', encoding = \"ISO-8859-1\")\n",
    "df2014 = pd.read_csv(data2014_url, sep=';', encoding = \"ISO-8859-1\")"
   ]
  },
  {
   "cell_type": "code",
   "execution_count": 3,
   "id": "14fe3202",
   "metadata": {},
   "outputs": [
    {
     "name": "stderr",
     "output_type": "stream",
     "text": [
      "<ipython-input-3-9f12032ffd05>:48: SettingWithCopyWarning: \n",
      "A value is trying to be set on a copy of a slice from a DataFrame\n",
      "\n",
      "See the caveats in the documentation: https://pandas.pydata.org/pandas-docs/stable/user_guide/indexing.html#returning-a-view-versus-a-copy\n",
      "  dfgeocommune['LIBL_COMMUNE'][commune] = remove_accents(dfgeocommune['LIBL_COMMUNE'][commune])\n"
     ]
    }
   ],
   "source": [
    "# Notebook de nettoyage des données\n",
    "\n",
    "col_suppr = ['DATE_DEBUT', 'DATE_FIN', 'ID_HISTORIQUE']\n",
    "STR = ['CODE_COMMUNE', 'CODE_CANTON']\n",
    "NBRE = ['TOTAL', 'TOTAL_FEM', 'TOTAL_HOM', 'TOTAL_M75A', 'TOTAL_7584A', 'TOTAL_P85A', 'TOTAL_DOM', 'TOTAL_ETA']\n",
    "\n",
    "def nettoie(A):\n",
    "    A.columns = A.loc[0]\n",
    "    A.drop(0,axis=0,inplace=True)\n",
    "    A.drop(col_suppr, axis=1, inplace=True)\n",
    "    A.fillna(0, inplace=True)\n",
    "    A[STR] = A[STR].astype('str')\n",
    "    A[NBRE] = A[NBRE].astype('int')\n",
    "    return A\n",
    "\n",
    "nettoie(df2020)\n",
    "nettoie(df2019)\n",
    "nettoie(df2018)\n",
    "nettoie(df2017)\n",
    "nettoie(df2016)\n",
    "nettoie(df2015)\n",
    "nettoie(df2014)\n",
    "\n",
    "def remove_accents(input_str):\n",
    "    nkfd_form = unicodedata.normalize('NFKD', input_str)\n",
    "    return u\"\".join([c for c in nkfd_form if not unicodedata.combining(c)])\n",
    "\n",
    "dfgeocommune = json_normalize(geocommune['features'])\n",
    "dfgeocommune.drop('type', axis=1, inplace=True)\n",
    "dfgeocommune.drop('geometry.type', axis=1, inplace=True)\n",
    "dfgeocommune=dfgeocommune.rename(columns={\"geometry.coordinates\": \"coordinates\",\n",
    "                      \"properties.code\": \"CODE_COMMUNE\",\n",
    "                      \"properties.nom\": \"LIBL_COMMUNE\"})\n",
    "dfgeocommune['LIBL_COMMUNE']=dfgeocommune['LIBL_COMMUNE'].str.upper()\n",
    "long,lat=[],[]\n",
    "for commune in range(len(dfgeocommune)):\n",
    "    A,B, nbcom=0,0,len(dfgeocommune['coordinates'][commune][0])\n",
    "    for point in range(nbcom):\n",
    "        A+= (dfgeocommune['coordinates'][commune][0][point][0] if commune!=244 else dfgeocommune['coordinates'][commune][0][0][point][0])\n",
    "        B+= (dfgeocommune['coordinates'][commune][0][point][1] if commune!=244 else dfgeocommune['coordinates'][commune][0][0][point][1])\n",
    "    long.append(A/nbcom)\n",
    "    lat.append(B/nbcom)\n",
    "\n",
    "dfgeocommune['LONG']=long\n",
    "dfgeocommune['LAT']=lat\n",
    "\n",
    "for commune in range(len(dfgeocommune['LIBL_COMMUNE'])):\n",
    "    dfgeocommune['LIBL_COMMUNE'][commune] = remove_accents(dfgeocommune['LIBL_COMMUNE'][commune])\n",
    "\n",
    "    liste_coord=[]\n",
    "for i in range(len(dfgeocommune)):\n",
    "    point=[]\n",
    "    for j in range(len(dfgeocommune['coordinates'][i][0])):\n",
    "        truc=[]\n",
    "        truc.append(dfgeocommune['coordinates'][i][0][j][1])\n",
    "        truc.append(dfgeocommune['coordinates'][i][0][j][0])\n",
    "        point.append(truc)\n",
    "    liste_coord.append(point)\n",
    "dfgeocommune['geo']=liste_coord\n",
    "\n",
    "dfgeocommune.drop(['coordinates'], axis=1, inplace=True)"
   ]
  },
  {
   "cell_type": "code",
   "execution_count": 5,
   "id": "1bcbf32a",
   "metadata": {},
   "outputs": [],
   "source": [
    "#Export des fichiers\n",
    "dfgeocommune.to_csv('commune_geo.csv')\n",
    "\n",
    "df2020.to_csv('APA_2020.csv')\n",
    "df2019.to_csv('APA_2019.csv')\n",
    "df2018.to_csv('APA_2018.csv')\n",
    "df2017.to_csv('APA_2017.csv')\n",
    "df2016.to_csv('APA_2016.csv')\n",
    "df2015.to_csv('APA_2015.csv')\n",
    "df2014.to_csv('APA_2014.csv')"
   ]
  },
  {
   "cell_type": "code",
   "execution_count": null,
   "id": "fabf2412",
   "metadata": {},
   "outputs": [],
   "source": []
  }
 ],
 "metadata": {
  "kernelspec": {
   "display_name": "Python 3",
   "language": "python",
   "name": "python3"
  },
  "language_info": {
   "codemirror_mode": {
    "name": "ipython",
    "version": 3
   },
   "file_extension": ".py",
   "mimetype": "text/x-python",
   "name": "python",
   "nbconvert_exporter": "python",
   "pygments_lexer": "ipython3",
   "version": "3.8.8"
  }
 },
 "nbformat": 4,
 "nbformat_minor": 5
}
