{
 "cells": [
  {
   "cell_type": "code",
   "execution_count": 2,
   "id": "4ac2a596",
   "metadata": {},
   "outputs": [],
   "source": [
    "import streamlit as st\n",
    "import pandas as pd\n",
    "import numpy as np\n",
    "import folium\n",
    "from streamlit_folium import folium_static\n",
    "import json\n",
    "from pandas import json_normalize\n",
    "import unicodedata"
   ]
  },
  {
   "cell_type": "code",
   "execution_count": 11,
   "id": "2a8f4996",
   "metadata": {},
   "outputs": [],
   "source": [
    "# Liens de téléchargement des données\n",
    "# data2019 et data2020 : allocataires APA puy de dome de 2019 et 2020\n",
    "data2019_url = (\n",
    "    \"https://app.puy-de-dome.fr/open-data/public/files/app-open-data/Allocataires_APA_par_commune_(spatial_points)_1460_2020-09-03.csv\")\n",
    "\n",
    "data2020_url = (\n",
    "    \"https://app.puy-de-dome.fr/open-data/public/files/app-open-data/Allocataires_APA_par_commune_(spatial_points)_1492_2021-03-18.csv\")\n",
    "\n",
    "# datageo : coordonnées des communes du puy de dome\n",
    "datageo_url = (\n",
    "    'https://github.com/gregoiredavid/france-geojson/raw/master/departements/63-puy-de-dome/communes-63-puy-de-dome.geojson')\n",
    "geo=pd.read_json(datageo_url)\n",
    "\n",
    "df2020 = pd.read_csv(data2020_url, sep=';', encoding = \"ISO-8859-1\")\n",
    "\n",
    "df2019 = pd.read_csv(data2019_url, sep=';', encoding = \"ISO-8859-1\")"
   ]
  },
  {
   "cell_type": "code",
   "execution_count": 12,
   "id": "14fe3202",
   "metadata": {},
   "outputs": [
    {
     "name": "stderr",
     "output_type": "stream",
     "text": [
      "<ipython-input-12-784c749aac2c>:43: SettingWithCopyWarning: \n",
      "A value is trying to be set on a copy of a slice from a DataFrame\n",
      "\n",
      "See the caveats in the documentation: https://pandas.pydata.org/pandas-docs/stable/user_guide/indexing.html#returning-a-view-versus-a-copy\n",
      "  dfgeo['LIBL_COMMUNE'][commune] = remove_accents(dfgeo['LIBL_COMMUNE'][commune])\n"
     ]
    }
   ],
   "source": [
    "# Notebook de nettoyage des données\n",
    "\n",
    "col_suppr = ['DATE_DEBUT', 'DATE_FIN', 'ID_HISTORIQUE']\n",
    "STR = ['CODE_COMMUNE', 'CODE_CANTON']\n",
    "NBRE = ['TOTAL', 'TOTAL_FEM', 'TOTAL_HOM', 'TOTAL_M75A', 'TOTAL_7584A', 'TOTAL_P85A', 'TOTAL_DOM', 'TOTAL_ETA']\n",
    "\n",
    "def nettoie(A):\n",
    "    A.columns = A.loc[0]\n",
    "    A.drop(0,axis=0,inplace=True)\n",
    "    A.drop(col_suppr, axis=1, inplace=True)\n",
    "    A.fillna(0, inplace=True)\n",
    "    A[STR] = A[STR].astype('str')\n",
    "    A[NBRE] = A[NBRE].astype('int')\n",
    "    return A\n",
    "\n",
    "nettoie(df2020)\n",
    "nettoie(df2019)\n",
    "\n",
    "def remove_accents(input_str):\n",
    "    nkfd_form = unicodedata.normalize('NFKD', input_str)\n",
    "    return u\"\".join([c for c in nkfd_form if not unicodedata.combining(c)])\n",
    "\n",
    "dfgeo = json_normalize(geo['features'])\n",
    "dfgeo.drop('type', axis=1, inplace=True)\n",
    "dfgeo.drop('geometry.type', axis=1, inplace=True)\n",
    "dfgeo=dfgeo.rename(columns={\"geometry.coordinates\": \"coordinates\",\n",
    "                      \"properties.code\": \"CODE_COMMUNE\",\n",
    "                      \"properties.nom\": \"LIBL_COMMUNE\"})\n",
    "dfgeo['LIBL_COMMUNE']=dfgeo['LIBL_COMMUNE'].str.upper()\n",
    "long,lat=[],[]\n",
    "for commune in range(len(dfgeo)):\n",
    "    A,B, nbcom=0,0,len(dfgeo['coordinates'][commune][0])\n",
    "    for point in range(nbcom):\n",
    "        A+= (dfgeo['coordinates'][commune][0][point][0] if commune!=244 else dfgeo['coordinates'][commune][0][0][point][0])\n",
    "        B+= (dfgeo['coordinates'][commune][0][point][1] if commune!=244 else dfgeo['coordinates'][commune][0][0][point][1])\n",
    "    long.append(A/nbcom)\n",
    "    lat.append(B/nbcom)\n",
    "\n",
    "dfgeo['LONG']=long\n",
    "dfgeo['LAT']=lat\n",
    "\n",
    "for commune in range(len(dfgeo['LIBL_COMMUNE'])):\n",
    "    dfgeo['LIBL_COMMUNE'][commune] = remove_accents(dfgeo['LIBL_COMMUNE'][commune])\n",
    "\n",
    "    liste_coord=[]\n",
    "for i in range(len(dfgeo)):\n",
    "    point=[]\n",
    "    for j in range(len(dfgeo['coordinates'][i][0])):\n",
    "        truc=[]\n",
    "        truc.append(dfgeo['coordinates'][i][0][j][1])\n",
    "        truc.append(dfgeo['coordinates'][i][0][j][0])\n",
    "        point.append(truc)\n",
    "    liste_coord.append(point)\n",
    "dfgeo['geo']=liste_coord\n",
    "\n",
    "dfgeo.drop(['coordinates'], axis=1, inplace=True)"
   ]
  },
  {
   "cell_type": "code",
   "execution_count": 13,
   "id": "1bcbf32a",
   "metadata": {},
   "outputs": [],
   "source": [
    "#Export des fichiers\n",
    "dfgeo.to_csv('APA_geo.csv')\n",
    "df2020.to_csv('APA_2020.csv')\n",
    "df2019.to_csv('APA_2019.csv')"
   ]
  },
  {
   "cell_type": "code",
   "execution_count": null,
   "id": "dda2d881",
   "metadata": {},
   "outputs": [],
   "source": []
  },
  {
   "cell_type": "code",
   "execution_count": null,
   "id": "d5eaf0ed",
   "metadata": {},
   "outputs": [],
   "source": []
  }
 ],
 "metadata": {
  "kernelspec": {
   "display_name": "Python 3",
   "language": "python",
   "name": "python3"
  },
  "language_info": {
   "codemirror_mode": {
    "name": "ipython",
    "version": 3
   },
   "file_extension": ".py",
   "mimetype": "text/x-python",
   "name": "python",
   "nbconvert_exporter": "python",
   "pygments_lexer": "ipython3",
   "version": "3.8.8"
  }
 },
 "nbformat": 4,
 "nbformat_minor": 5
}
